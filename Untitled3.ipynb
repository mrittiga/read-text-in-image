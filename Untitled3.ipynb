{
  "nbformat": 4,
  "nbformat_minor": 0,
  "metadata": {
    "colab": {
      "provenance": [],
      "authorship_tag": "ABX9TyP2SAYuuvKd0s1BzvqyVGnw",
      "include_colab_link": true
    },
    "kernelspec": {
      "name": "python3",
      "display_name": "Python 3"
    },
    "language_info": {
      "name": "python"
    }
  },
  "cells": [
    {
      "cell_type": "markdown",
      "metadata": {
        "id": "view-in-github",
        "colab_type": "text"
      },
      "source": [
        "<a href=\"https://colab.research.google.com/github/mrittiga/read-text-in-image/blob/main/Untitled3.ipynb\" target=\"_parent\"><img src=\"https://colab.research.google.com/assets/colab-badge.svg\" alt=\"Open In Colab\"/></a>"
      ]
    },
    {
      "cell_type": "code",
      "execution_count": 13,
      "metadata": {
        "id": "nFt_vhMpniNW"
      },
      "outputs": [],
      "source": [
        "import pytesseract\n",
        "from PIL import Image"
      ]
    },
    {
      "cell_type": "code",
      "source": [],
      "metadata": {
        "id": "mc8nzD7NrNg0"
      },
      "execution_count": null,
      "outputs": []
    },
    {
      "cell_type": "code",
      "metadata": {
        "colab": {
          "base_uri": "https://localhost:8080/"
        },
        "id": "5335b743",
        "outputId": "fe451ae2-7610-4159-ac3f-7d24fd219d85"
      },
      "source": [
        "import pytesseract\n",
        "from PIL import Image\n",
        "\n",
        "image_file = \"/content/1.jpg\"\n",
        "\n",
        "\n",
        "try:\n",
        "    img = Image.open(image_file)\n",
        "\n",
        "    text = pytesseract.image_to_string(img)\n",
        "\n",
        "    print(\"Extracted Text:\")\n",
        "    print(text)\n",
        "\n",
        "except FileNotFoundError:\n",
        "    print(f\"Error: The file '{image_file}' was not found.\")\n",
        "except Exception as e:\n",
        "    print(f\"An error occurred: {e}\")"
      ],
      "execution_count": 21,
      "outputs": [
        {
          "output_type": "stream",
          "name": "stdout",
          "text": [
            "Extracted Text:\n",
            " \n",
            "\n",
            "‘aremips dle iat, onset ait\n",
            "flt-sedo eosod tanger nun adore et\n",
            "“ntremagna alg Tau trtr sa\n",
            "‘laf tavern nolan\n",
            "tore. caer tae congue ma\n",
            "lites emer sgts conden ae\n",
            "Siplenpelentnqe han er Teste\n",
            "Secs et nts et alesada fame pi Dol\n",
            "‘temarletus st Nec aarp at\n",
            "ulm ee Uren anol aces\n",
            "\f\n"
          ]
        }
      ]
    },
    {
      "cell_type": "code",
      "source": [],
      "metadata": {
        "id": "4P-6fHHh-JFP"
      },
      "execution_count": null,
      "outputs": []
    }
  ]
}